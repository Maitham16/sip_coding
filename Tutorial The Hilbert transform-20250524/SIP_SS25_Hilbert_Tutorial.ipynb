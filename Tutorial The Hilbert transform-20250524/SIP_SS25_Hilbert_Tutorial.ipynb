{
 "cells": [
  {
   "cell_type": "markdown",
   "metadata": {},
   "source": [
    "# Signal and Image Processing (SIP) SS25\n",
    "\n",
    "##  Hilbert Transform Tutorial"
   ]
  },
  {
   "cell_type": "markdown",
   "metadata": {},
   "source": [
    "### Import packages"
   ]
  },
  {
   "cell_type": "code",
   "execution_count": null,
   "metadata": {},
   "outputs": [],
   "source": [
    "import numpy as np\n",
    "import matplotlib.pyplot as plt\n",
    "import matplotlib.cm as cm"
   ]
  },
  {
   "cell_type": "markdown",
   "metadata": {},
   "source": [
    "## Analytic Signal"
   ]
  },
  {
   "cell_type": "markdown",
   "metadata": {},
   "source": [
    "### Define plot function"
   ]
  },
  {
   "cell_type": "code",
   "execution_count": null,
   "metadata": {},
   "outputs": [],
   "source": [
    "# Function for plotting the signal, with parameters x (signal) and t (time array)\n",
    "def plot_x(x,t=None):\n",
    "    \n",
    "    # Define figure size\n",
    "    plt.figure(figsize=(15,5))\n",
    "    # Plot the signal x in seconds\n",
    "    if t is not None:\n",
    "        plt.plot(t,x)\n",
    "        plt.xlabel('Time (s)')\n",
    "    else:\n",
    "        # If no time array is provided, use the index of x as time\n",
    "        plt.plot(x)\n",
    "    # Label the axes\n",
    "    plt.ylabel('Amplitude (a.u.)')\n",
    "    # Show grid in plot\n",
    "    plt.grid()\n",
    "    # Show the plot\n",
    "    plt.show()"
   ]
  },
  {
   "cell_type": "markdown",
   "metadata": {},
   "source": [
    "### Generate a sine signal and plot it"
   ]
  },
  {
   "cell_type": "markdown",
   "metadata": {},
   "source": [
    "\n",
    "For sinusoid formula, see [Wikipedia](https://en.wikipedia.org/w/index.php?title=Sine_wave&oldid=1279161490#Sinusoid_form)"
   ]
  },
  {
   "cell_type": "code",
   "execution_count": null,
   "metadata": {},
   "outputs": [],
   "source": [
    "# signal length (s)\n",
    "T = 1 \n",
    "# sampling frequency in Hz\n",
    "fs = 1000\n",
    "# signal frequency in Hz\n",
    "f = 1\n",
    "# signal phase shift in radians\n",
    "ph = 0\n",
    "\n",
    "'''\n",
    "TO-DO: define sine signal x with frequency f, length T, phase ph and sampling frequency fs\n",
    "'''\n",
    "# signal length (samples)\n",
    "N = 0\n",
    "# samples indices array\n",
    "n = 0\n",
    "# sample time array\n",
    "t = 0\n",
    "# Add amplitude\n",
    "A = 1\n",
    "# sine signal\n",
    "x = 0\n",
    "\n",
    "# plot the signal\n",
    "plot_x(x)"
   ]
  },
  {
   "cell_type": "code",
   "execution_count": null,
   "metadata": {},
   "outputs": [],
   "source": [
    "# Plot the signal x over time t\n",
    "plot_x(x,t)"
   ]
  },
  {
   "cell_type": "markdown",
   "metadata": {},
   "source": [
    "### Calculate the analytic signal z"
   ]
  },
  {
   "cell_type": "code",
   "execution_count": null,
   "metadata": {},
   "outputs": [],
   "source": [
    "def analytic_signal(x):\n",
    "    '''\n",
    "    TO-DO: Apply Hilbert transform (see steps in lecture note)\n",
    "    '''\n",
    "\n",
    "    \n",
    "    z = 0\n",
    "    return z"
   ]
  },
  {
   "cell_type": "code",
   "execution_count": null,
   "metadata": {},
   "outputs": [],
   "source": [
    "z = analytic_signal(x)"
   ]
  },
  {
   "cell_type": "markdown",
   "metadata": {},
   "source": [
    "### Calculate and plot instantaneous amplitude, phase and frequency"
   ]
  },
  {
   "cell_type": "code",
   "execution_count": null,
   "metadata": {},
   "outputs": [],
   "source": [
    "def plot_z(z, t, fs, freq_lim = None):\n",
    "    '''    \n",
    "    TO-DO: calculate real_z, imag_z and inst_amp\n",
    "    '''\n",
    "    real_z = 0\n",
    "    imag_z = 0\n",
    "    inst_amp = 0\n",
    "\n",
    "    '''\n",
    "    TO-DO: calculate inst. phase in radians\n",
    "    '''\n",
    "    inst_phase = 0\n",
    "    \n",
    "    '''\n",
    "    TO-DO: calculate inst_freq (convert from radians/sample in Hz)\n",
    "    '''\n",
    "    inst_freq = 0\n",
    "    \n",
    "    # Define figure size\n",
    "    plt.figure(figsize=(15,10))\n",
    "    \n",
    "    # First Subplot with instantaneous amplitude, real and imaginary part of z\n",
    "    plt.subplot(3,1,1)\n",
    "    plt.plot(t, real_z, label='real')\n",
    "    plt.plot(t, imag_z, label='imag')\n",
    "    plt.plot(t, inst_amp, label='inst amp')\n",
    "    plt.xlabel('Time (s)')\n",
    "    plt.ylabel('Amplitude (a.u.)')\n",
    "    plt.legend()\n",
    "    plt.grid()\n",
    "    \n",
    "    # Second Subplot with instantaneous phase\n",
    "    plt.subplot(3,1,2)\n",
    "    plt.plot(t, inst_phase/np.pi, label='inst phase', color='red')\n",
    "    plt.xlabel('Time (s)')\n",
    "    plt.ylabel('Amplitude (a.u.)')\n",
    "    plt.legend()\n",
    "    plt.grid()\n",
    "    \n",
    "    # Third Subplot with instantaneous frequency\n",
    "    plt.subplot(3,1,3)\n",
    "    plt.plot(t[1:], inst_freq, label='inst freq', color='purple')\n",
    "    # Set y-lim to avoid rounding errors and computational artefacts\n",
    "    if freq_lim is not None:\n",
    "        plt.ylim(freq_lim)\n",
    "    plt.xlabel('Time (s)')\n",
    "    plt.ylabel('Amplitude (a.u.)')\n",
    "    plt.legend()\n",
    "    plt.grid()"
   ]
  },
  {
   "cell_type": "markdown",
   "metadata": {},
   "source": [
    "### Plot analytic signal z in time domain"
   ]
  },
  {
   "cell_type": "code",
   "execution_count": null,
   "metadata": {},
   "outputs": [],
   "source": [
    "# Plot the instantaneous amplitude, phase and frequency  \n",
    "plot_z(z, t, fs, [-1,5])"
   ]
  },
  {
   "cell_type": "markdown",
   "metadata": {},
   "source": [
    "### Plot analytic signal z in complex plane"
   ]
  },
  {
   "cell_type": "code",
   "execution_count": null,
   "metadata": {},
   "outputs": [],
   "source": [
    "def plot_analytic_signal_3d(t, analytic_signal):\n",
    "    \"\"\"\n",
    "    Plot the analytic signal in 3D with projections.\n",
    "\n",
    "    Parameters:\n",
    "    - t: time array\n",
    "    - analytic_signal: complex analytic signal (real + j * imag)\n",
    "    \"\"\"\n",
    "    # Increase offsets for better separation\n",
    "    real_offset = np.max(np.real(analytic_signal)) + 0.4  # Shift Imaginary projection RIGHT\n",
    "    imag_offset = np.min(np.imag(analytic_signal)) - 0.4  # Real projection further DOWN\n",
    "    time_offset = -0.3  # Move phasor projection further BACK\n",
    "\n",
    "    fig = plt.figure(figsize=(12, 10))\n",
    "    ax = fig.add_subplot(111, projection='3d')\n",
    "\n",
    "    # --- Colormap setup ---\n",
    "    norm_t = (t - t.min()) / (t.max() - t.min())\n",
    "    colors = cm.rainbow(norm_t)\n",
    "\n",
    "    # --- NEW ORDER: projections first, analytic signal last ---\n",
    "\n",
    "    # Plot 4: Phasor in Complex Plane (Real vs Imaginary) at Time = time_offset (further back)\n",
    "    for i in range(len(t)-1):\n",
    "        ax.plot(\n",
    "            [time_offset, time_offset],\n",
    "            [np.real(analytic_signal[i]), np.real(analytic_signal[i+1])],\n",
    "            [np.imag(analytic_signal[i]), np.imag(analytic_signal[i+1])],\n",
    "            color=colors[i],\n",
    "            label='4. Phasor in Complex Plane' if i == 0 else None\n",
    "        )\n",
    "\n",
    "    # Plot 2: Real Signal Projection (Real part vs Time) shifted in Imaginary axis (BOTTOM/behind)\n",
    "    ax.plot(\n",
    "        t,\n",
    "        np.real(analytic_signal),\n",
    "        np.full_like(t, imag_offset),\n",
    "        color='#1f77b4',\n",
    "        label='2. Real Signal'\n",
    "    )\n",
    "\n",
    "    # Plot 1: Hilbert Transform Projection (Imaginary part vs Time) shifted in Real axis (RIGHT)\n",
    "    ax.plot(\n",
    "        t,\n",
    "        np.full_like(t, real_offset),\n",
    "        np.imag(analytic_signal),\n",
    "        color='#ff7f0e',\n",
    "        label='1. Hilbert Transform Projection'\n",
    "    )\n",
    "\n",
    "    # Plot 3: Analytical Signal in 3D (colored with rainbow colormap)\n",
    "    for i in range(len(t)-1):\n",
    "        ax.plot(\n",
    "            [t[i], t[i+1]],\n",
    "            [np.real(analytic_signal[i]), np.real(analytic_signal[i+1])],\n",
    "            [np.imag(analytic_signal[i]), np.imag(analytic_signal[i+1])],\n",
    "            color=colors[i],\n",
    "            label='3. Analytical Signal' if i == 0 else None\n",
    "        )\n",
    "\n",
    "    # Labels & Legend\n",
    "    ax.set_xlabel('Time Axis (sec)')\n",
    "    ax.set_ylabel('Real Axis')\n",
    "    ax.set_zlabel('Imaginary Axis')\n",
    "    ax.legend(loc='upper left')\n",
    "\n",
    "    ax.set_xlim([time_offset - 0.1, np.max(t)])\n",
    "    ax.set_ylim([-1.5, real_offset + 0.5])\n",
    "    ax.set_zlim([imag_offset - 0.3, 1.5])\n",
    "\n",
    "    plt.title('Hilbert Transform & Analytic Signal Visualization')\n",
    "    plt.tight_layout()\n",
    "    plt.show()"
   ]
  },
  {
   "cell_type": "code",
   "execution_count": null,
   "metadata": {},
   "outputs": [],
   "source": [
    "def scatter_z(z):\n",
    "    colors = cm.rainbow(np.linspace(0,1,len(z)))\n",
    "    plt.figure(figsize=(10,10))\n",
    "    plt.axhline(0, c='k')\n",
    "    plt.axvline(0, c='k')\n",
    "    plt.scatter(np.real(z), np.imag(z), color=colors)\n",
    "    plt.xlabel('real(z)')\n",
    "    plt.ylabel('imag(z)')\n",
    "    plt.grid()\n",
    "    plt.show()"
   ]
  },
  {
   "cell_type": "code",
   "execution_count": null,
   "metadata": {},
   "outputs": [],
   "source": [
    "# Scatter plot\n",
    "scatter_z(z)\n",
    "plot_analytic_signal_3d(t, z)\n",
    "\n",
    "'''\n",
    "The signal starts at color purple\n",
    "'''"
   ]
  },
  {
   "cell_type": "markdown",
   "metadata": {},
   "source": [
    "### Signal with 2 frequency components"
   ]
  },
  {
   "cell_type": "code",
   "execution_count": null,
   "metadata": {},
   "outputs": [],
   "source": [
    "#Two frequency components\n",
    "f1 = 7\n",
    "f2 = 3\n",
    "\n",
    "# Sum of two sine waves\n",
    "'''\n",
    "TO-DO: define sine signal x2 with two frequency components f1 and f2\n",
    "'''\n",
    "x2 = 0\n",
    "\n",
    "# Plot the signal\n",
    "plot_x(x2,t)"
   ]
  },
  {
   "cell_type": "markdown",
   "metadata": {},
   "source": [
    "### Calculate and plot instantantaneous amplitude, phase and frequency of new signal"
   ]
  },
  {
   "cell_type": "code",
   "execution_count": null,
   "metadata": {},
   "outputs": [],
   "source": [
    "# Calculate z2\n",
    "z2 = analytic_signal(x2)\n",
    "\n",
    "# Plot inst ampl, phase and freq\n",
    "plot_z(z2,t,fs,[0,10])"
   ]
  },
  {
   "cell_type": "markdown",
   "metadata": {},
   "source": [
    "### Show complex plane"
   ]
  },
  {
   "cell_type": "code",
   "execution_count": null,
   "metadata": {},
   "outputs": [],
   "source": [
    "scatter_z(z2)\n",
    "plot_analytic_signal_3d(t, z2)"
   ]
  },
  {
   "cell_type": "markdown",
   "metadata": {},
   "source": [
    "### More complex signal"
   ]
  },
  {
   "cell_type": "code",
   "execution_count": null,
   "metadata": {},
   "outputs": [],
   "source": [
    "# Six frequency components\n",
    "freqs = [0.3, 1.9, 3, 11, 17, 31]\n",
    "\n",
    "# Sum up the individual freq. components\n",
    "'''\n",
    "TO-DO: define sine signal x3 with multiple frequency components\n",
    "'''\n",
    "x3 = 0\n",
    "\n",
    "# Plot the new signal\n",
    "plot_x(x3,t)"
   ]
  },
  {
   "cell_type": "markdown",
   "metadata": {},
   "source": [
    "### Calculate and plot instantantaneous amplitude, phase and frequency of new signal"
   ]
  },
  {
   "cell_type": "code",
   "execution_count": null,
   "metadata": {},
   "outputs": [],
   "source": [
    "z3 = analytic_signal(x3)\n",
    "plot_z(z3,t,fs,[-150,150])"
   ]
  },
  {
   "cell_type": "markdown",
   "metadata": {},
   "source": [
    "### Show complex plane of new signal"
   ]
  },
  {
   "cell_type": "code",
   "execution_count": null,
   "metadata": {},
   "outputs": [],
   "source": [
    "scatter_z(z3)\n",
    "plot_analytic_signal_3d(t, z3)"
   ]
  },
  {
   "cell_type": "markdown",
   "metadata": {},
   "source": [
    "## Amplitude and Frequency Modulation"
   ]
  },
  {
   "attachments": {
    "20081207031551!Amfm3-en-de.gif": {
     "image/gif": "[encoded data removed]"
    }
   },
   "cell_type": "markdown",
   "metadata": {},
   "source": [
    "![20081207031551!Amfm3-en-de.gif](attachment:20081207031551!Amfm3-en-de.gif)"
   ]
  },
  {
   "cell_type": "markdown",
   "metadata": {},
   "source": [
    "([Source](https://en.m.wikipedia.org/wiki/File:Amfm3-en-de.gif))"
   ]
  },
  {
   "cell_type": "markdown",
   "metadata": {},
   "source": [
    "### Amplitude modulated signal"
   ]
  },
  {
   "cell_type": "code",
   "execution_count": null,
   "metadata": {},
   "outputs": [],
   "source": [
    "# amplitude modulated signal: combination of two signals\n",
    "\n",
    "# modulator: signal we want to transmit (acutal interesting signal)\n",
    "fm = 0.5\n",
    "\n",
    "'''\n",
    "Try both signals xm\n",
    "'''\n",
    "xm = np.sin(2*np.pi*fm*t)\n",
    "# xm = np.arange(N)/N \n",
    "\n",
    "\n",
    "plot_x(xm)"
   ]
  },
  {
   "cell_type": "code",
   "execution_count": null,
   "metadata": {},
   "outputs": [],
   "source": [
    "# carrier: signal, that carries our interesting signal (transfer interesting signal onto)\n",
    "fc = 30\n",
    "'''\n",
    "TO-DO: Define carrier signal xc\n",
    "'''\n",
    "xc = 0\n",
    "\n",
    "plot_x(xc,t)"
   ]
  },
  {
   "cell_type": "code",
   "execution_count": null,
   "metadata": {},
   "outputs": [],
   "source": [
    "# Amplitdue modulated signal\n",
    "'''\n",
    "TO-DO: Calculate amplitude modulated signal x_am\n",
    "'''\n",
    "x_am = 0\n",
    "\n",
    "plot_x(x_am,t)"
   ]
  },
  {
   "cell_type": "code",
   "execution_count": null,
   "metadata": {},
   "outputs": [],
   "source": [
    "z_am = analytic_signal(x_am)\n",
    "plot_z(z_am, t, fs, [-20,100])"
   ]
  },
  {
   "cell_type": "code",
   "execution_count": null,
   "metadata": {},
   "outputs": [],
   "source": [
    "scatter_z(z_am)\n",
    "plot_analytic_signal_3d(t, z_am)"
   ]
  },
  {
   "cell_type": "markdown",
   "metadata": {},
   "source": [
    "### Frequency Modulation"
   ]
  },
  {
   "cell_type": "code",
   "execution_count": null,
   "metadata": {},
   "outputs": [],
   "source": [
    "# frequency modulated signal\n",
    "\n",
    "# modulator\n",
    "fm = 4\n",
    "\n",
    "'''\n",
    "Try both signals xm\n",
    "'''\n",
    "# xm = np.zeros(N)\n",
    "# xm[0:250] = np.arange(250)/250\n",
    "# xm[250:750] = np.arange(250,-250,-1)/250\n",
    "# xm[750:] = np.arange(-250,0)/250\n",
    "\n",
    "xm = np.sin(2*np.pi*fm*t)\n",
    "\n",
    "# carrier\n",
    "fc = 50\n",
    "'''\n",
    "TO-DO: Define carrier signal xc\n",
    "'''\n",
    "xc = 0\n",
    "\n",
    "# modulation factor\n",
    "mf = 1\n",
    "\n",
    "# add modulator signal to phase of carrier signal\n",
    "'''\n",
    "TO-DO: Calculate frequency modulated signal (note that you now add the modulater signal to the phase)\n",
    "'''\n",
    "x_fm = 0\n",
    "\n",
    "# Modulator signal\n",
    "plot_x(xm,t)\n",
    "# Carrier signal\n",
    "plot_x(xc,t)\n",
    "# Frequncy modulated signal\n",
    "plot_x(x_fm,t)"
   ]
  },
  {
   "cell_type": "code",
   "execution_count": null,
   "metadata": {},
   "outputs": [],
   "source": [
    "z_fm = analytic_signal(x_fm)\n",
    "plot_z(z_fm,t,fs,[20,80])"
   ]
  },
  {
   "cell_type": "code",
   "execution_count": null,
   "metadata": {},
   "outputs": [],
   "source": [
    "scatter_z(z_fm)\n",
    "plot_analytic_signal_3d(t, z_fm)"
   ]
  },
  {
   "cell_type": "markdown",
   "metadata": {},
   "source": [
    "### Demodulate signal"
   ]
  },
  {
   "cell_type": "code",
   "execution_count": null,
   "metadata": {},
   "outputs": [],
   "source": [
    "# Calculate inst. frequency\n",
    "'''\n",
    "TO-DO: Calculate inst. frequency inst_freq with unwrap\n",
    "'''\n",
    "inst_freq = 0\n",
    "\n",
    "plot_x(inst_freq)\n",
    "plot_x(inst_freq-fc)\n",
    "\n",
    "# Demodulate: integral of inst freq\n",
    "'''\n",
    "TO-DO: Calculate integral of inst frequency (modulator factor!)\n",
    "'''\n",
    "xm_demod = 0\n",
    "\n",
    "plot_x(xm_demod,t[1:])"
   ]
  },
  {
   "cell_type": "code",
   "execution_count": null,
   "metadata": {},
   "outputs": [],
   "source": [
    "scatter_z(z_fm)"
   ]
  },
  {
   "cell_type": "code",
   "execution_count": null,
   "metadata": {},
   "outputs": [],
   "source": []
  }
 ],
 "metadata": {
  "kernelspec": {
   "display_name": "SIP",
   "language": "python",
   "name": "python3"
  },
  "language_info": {
   "codemirror_mode": {
    "name": "ipython",
    "version": 3
   },
   "file_extension": ".py",
   "mimetype": "text/x-python",
   "name": "python",
   "nbconvert_exporter": "python",
   "pygments_lexer": "ipython3",
   "version": "3.11.5"
  }
 },
 "nbformat": 4,
 "nbformat_minor": 4
}
