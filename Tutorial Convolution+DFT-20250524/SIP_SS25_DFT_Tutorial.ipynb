{
 "cells": [
  {
   "cell_type": "markdown",
   "id": "7a03fdda",
   "metadata": {},
   "source": [
    "# Signal and Image Processing (SIP SS25)\n",
    "\n",
    "### Research Group Neuroinformatics, Faculty of Computer Science,\n",
    "### University of Vienna\n",
    "\n",
    "\n",
    "###  DFT Tutorial\n",
    "\n",
    "Lecturer: Prof. Moritz GROSSE-WENTRUP\n",
    "\n",
    "Tutorial by: Sadiq A. ADEDAYO\n",
    "$\\quad\\quad\\quad\\quad$ Jakob PRAGER \n",
    "$\\quad\\quad\\quad\\quad$ Kerim ATAK (kerim.atak@univie.ac.at)"
   ]
  },
  {
   "cell_type": "code",
   "execution_count": 13,
   "id": "7ae4af5a",
   "metadata": {
    "ExecuteTime": {
     "end_time": "2023-10-18T14:18:12.097906Z",
     "start_time": "2023-10-18T14:18:11.897650Z"
    }
   },
   "outputs": [],
   "source": [
    "# imports packages required (Numpy and Matplotlib)\n",
    "\n",
    "import numpy as np\n",
    "import matplotlib.pyplot as plt"
   ]
  },
  {
   "cell_type": "markdown",
   "id": "ae4a99d1",
   "metadata": {},
   "source": [
    "## Discrete Fourier Transform (DFT)"
   ]
  },
  {
   "cell_type": "markdown",
   "id": "290b3e18",
   "metadata": {},
   "source": [
    "You learned about analysis (DFT) and synthesis (iDFT) from the video lectures. We have introduced that DFT allows us to change the domain of a signal from time to frequency while iDFT does the reverse. \n",
    "\n",
    "In this exercise, we will implement this and see how the concept works.\n",
    "\n",
    "Recall,\n",
    "\n",
    "Discrete Fourier Transform (Analysis); $$X(k) = \\sum_{n=0}^{N-1} x[n] \\exp \\left( {-j.\\frac{ 2\\pi k}{N}. n} \\right)$$\n",
    "\n",
    "\n",
    "inverse Discrete Fourier Transform (Synthesis); $$x[n] = \\frac{1}{N} \\sum_{k=0}^{N-1} X(k) \\exp \\left( {j.\\frac{ 2\\pi k}{N}. n} \\right)$$"
   ]
  },
  {
   "cell_type": "markdown",
   "id": "70541123",
   "metadata": {},
   "source": [
    "### Trigonometric signals\n",
    "\n",
    "Before we dive into DFT, it is important to understand the concept of signal oscillations.\n",
    "\n",
    "\n",
    "Take for instance, a sine signal as defined by;\n",
    "$$ x[n] = A sin\\left( \\frac{2 \\pi k}{N}. n  \\right) $$\n",
    "\n",
    "where\n",
    "\n",
    "- A is the amplitude\n",
    "- k is the frequency of oscillations per second measure in $s^{-1}$ or Hz (assuming, the signal is 1s long).\n",
    "\n",
    "Intuitively, k is the number of complete periods within N. i.e. if the signal is 1 second long, then k is the frequency.\n",
    "- N is the signal length. Mathematically; N = $f_{s}$ * T  where $f_{s}$ and `T` are the sampling frequency and length of the signal in [sec] respectively.\n",
    "\n",
    "$$x[n] = A sin \\left(\\frac{2 \\pi k}{f_{s} T} \\cdot n \\right)$$\n",
    "\n",
    "When N = $f_{s}$ * T and T = 1, the formular then becomes;\n",
    "\n",
    "$$x[n] = A sin \\left(\\frac{2 \\pi k}{f_{s}} \\cdot n \\right)$$\n",
    "\n",
    "\n",
    "Oftentimes, Amplitude `A` is not given in the signal equation, this indicates that it is unity (1). Hence\n",
    "\n",
    "$$x[n] = sin\\left( \\frac{2 \\pi k}{f_{s}} \\cdot n  \\right)$$"
   ]
  },
  {
   "cell_type": "code",
   "execution_count": 3,
   "id": "eb9736e3",
   "metadata": {},
   "outputs": [],
   "source": [
    "# plot sine signals\n",
    "\n",
    "def plot_signal(s, label = 's[n]'):\n",
    "    fig = plt.figure(figsize=(10, 5))\n",
    "    # if s is array of arrays\n",
    "    if isinstance(s[0], np.ndarray):\n",
    "        for (si, li) in zip(s, label):   \n",
    "            plt.plot(si, label=li)\n",
    "    else:\n",
    "        plt.plot(s, label=label)\n",
    "    plt.grid()\n",
    "    plt.xlabel('n')\n",
    "    plt.legend()\n",
    "    plt.show()"
   ]
  },
  {
   "cell_type": "code",
   "execution_count": 16,
   "id": "75bf41bf",
   "metadata": {
    "ExecuteTime": {
     "end_time": "2023-10-18T15:19:29.126688Z",
     "start_time": "2023-10-18T15:19:29.063729Z"
    }
   },
   "outputs": [],
   "source": [
    "# generate sine signals s1 and s2\n",
    "# in this case we use 1 second long signal of length N\n",
    "\n",
    "N =  1000 # number of samples\n",
    "n =  # sample index, n = 0, 1, 2, ..., N-1\n",
    "\n",
    "k1 = 1  # number of complete periods in N samples\n",
    "k2 = 50 # number of complete periods in N samples\n",
    "\n",
    "s1 = \n",
    "s2 = "
   ]
  },
  {
   "cell_type": "code",
   "execution_count": null,
   "id": "cabd4f5d",
   "metadata": {
    "ExecuteTime": {
     "end_time": "2023-10-18T15:19:49.392003Z",
     "start_time": "2023-10-18T15:19:48.980259Z"
    }
   },
   "outputs": [],
   "source": [
    "plot_signal(s1, f'$s_{1}[n]$')\n",
    "plot_signal(s2, f'$s_{2}[n]$')"
   ]
  },
  {
   "cell_type": "code",
   "execution_count": null,
   "id": "7abe0664",
   "metadata": {
    "ExecuteTime": {
     "end_time": "2023-10-18T15:27:06.616469Z",
     "start_time": "2023-10-18T15:27:06.357630Z"
    }
   },
   "outputs": [],
   "source": [
    "# carry out some operation on signals e.g. addition of two signals with different frequencies for instance\n",
    "k3, k4 = 5, 50\n",
    "\n",
    "s3 = \n",
    "s4 = \n",
    "\n",
    "# combine the signals\n",
    "s5 =\n",
    "\n",
    "# plot\n",
    "plot_signal([s3, s4, s5], ['$s_{3}[n]$', '$s_{4}[n]$', '$s_{5}[n]$'])"
   ]
  },
  {
   "cell_type": "markdown",
   "id": "8dda61aa",
   "metadata": {},
   "source": [
    "Here the Amplitudes `A` differ in the mixture of the signals. It can be seen that the amplitudes of the two signals are added together across `n`."
   ]
  },
  {
   "cell_type": "markdown",
   "id": "fb220152",
   "metadata": {},
   "source": [
    "Implement both DFT and iDFT as functions."
   ]
  },
  {
   "cell_type": "code",
   "execution_count": 21,
   "id": "e44a213c",
   "metadata": {
    "ExecuteTime": {
     "end_time": "2023-10-18T15:46:08.667954Z",
     "start_time": "2023-10-18T15:46:08.634974Z"
    }
   },
   "outputs": [],
   "source": [
    "# DFT\n",
    "def DFT(x):\n",
    "    \"\"\"\n",
    "    input: signal x[n] in time domain\n",
    "    output: X(f) in frequency domain\n",
    "    \"\"\"\n",
    "    \n",
    "    \n",
    "    X = \n",
    "    \n",
    "    return X\n",
    "\n",
    "\n",
    "# inverse DFT\n",
    "def iDFT(X):\n",
    "    \"\"\"\n",
    "    input: signal X(f) in frequency domain\n",
    "    output: x[n] in time domain\n",
    "    \"\"\"\n",
    "    \n",
    "    \n",
    "    x = \n",
    "    \n",
    "    return x"
   ]
  },
  {
   "cell_type": "code",
   "execution_count": 22,
   "id": "829a56c0",
   "metadata": {
    "ExecuteTime": {
     "end_time": "2023-10-18T15:46:10.815110Z",
     "start_time": "2023-10-18T15:46:10.537281Z"
    }
   },
   "outputs": [],
   "source": [
    "# application on signals generated above\n",
    "\n",
    "S1 = DFT(s1)\n",
    "S2 = DFT(s2)\n",
    "S5 = DFT(s5)"
   ]
  },
  {
   "cell_type": "code",
   "execution_count": null,
   "id": "de7f837d",
   "metadata": {
    "ExecuteTime": {
     "end_time": "2023-10-18T15:49:12.126286Z",
     "start_time": "2023-10-18T15:49:10.949013Z"
    }
   },
   "outputs": [],
   "source": [
    "# plots\n",
    "\n",
    "\n",
    "fig, ax = plt.subplots(3, 2, figsize=(15,9))\n",
    "ax[0, 0].plot(np.abs(S1))\n",
    "ax[0, 0].grid()\n",
    "ax[0, 0].set_title('Amplitude')\n",
    "\n",
    "ax[0, 1].plot(np.angle(S1))\n",
    "ax[0, 1].grid()\n",
    "ax[0, 1].set_title('Phase')\n",
    "\n",
    "\n",
    "ax[1, 0].plot(np.abs(S2))\n",
    "ax[1, 0].grid()\n",
    "ax[1, 0].set_title('Amplitude')\n",
    "\n",
    "ax[1, 1].plot(np.angle(S2))\n",
    "ax[1, 1].grid()\n",
    "ax[1, 1].set_title('Phase')\n",
    "\n",
    "\n",
    "ax[2, 0].plot(np.abs(S5))\n",
    "ax[2, 0].grid()\n",
    "ax[2, 0].set_title('Amplitude')\n",
    "\n",
    "ax[2, 1].plot(np.angle(S5))\n",
    "ax[2, 1].grid()\n",
    "ax[2, 1].set_title('Phase')\n",
    "\n",
    "plt.tight_layout()"
   ]
  },
  {
   "cell_type": "markdown",
   "id": "7290db8c",
   "metadata": {},
   "source": [
    "When time domain signal e.g `x[n]`, is converted into frequency domain `X(f)` via DFT, the resulting output is a complex. i.e. it has both amplitude and phase which are two parts of the spectrum of the signal. Oftentimes, signals may have the same amplitude spectrum but a different phase spectrum as in sine and cosine signal.\n",
    "\n",
    "It is also worth noting, because there are both positive and negative frequencies, the amplitude spectrum is plotted symmetrically and a special function `numpy.fft.fftshift()` should be used. Furthermore, to account for numerical errors, one should set values from the phase plots to 0 where Amplitude < 1e-8."
   ]
  },
  {
   "cell_type": "code",
   "execution_count": null,
   "id": "187ffb25",
   "metadata": {
    "ExecuteTime": {
     "end_time": "2023-10-18T16:04:26.551735Z",
     "start_time": "2023-10-18T16:04:25.151603Z"
    }
   },
   "outputs": [],
   "source": [
    "fig, ax = plt.subplots(3, 2, figsize=(15,9))\n",
    "ax[0,0].plot(np.fft.fftshift(np.abs(S1)))\n",
    "ax[0,0].grid()\n",
    "ax[0,0].set_xlim(480,520)\n",
    "ax[0,0].set_title('Amplitude spectrum for k = 1')\n",
    "\n",
    "Phase = np.angle(S1)\n",
    "Phase[np.abs(S1) < 1e-8] = 0\n",
    "ax[0,1].plot(np.fft.fftshift(Phase))\n",
    "ax[0,1].grid()\n",
    "ax[0,1].set_xlim(480,520)\n",
    "ax[0,1].set_title('Phase $s_{1}$')\n",
    "\n",
    "ax[1,0].plot(np.fft.fftshift(np.abs(S2)))\n",
    "ax[1,0].grid()\n",
    "ax[1,0].set_xlim(400,600)\n",
    "ax[1,0].set_title('Amplitude spectrum for k = 50')\n",
    "\n",
    "Phase = np.angle(S2)\n",
    "Phase[np.abs(S2) < 1e-8] = 0\n",
    "ax[1,1].plot(np.fft.fftshift(Phase))\n",
    "ax[1,1].grid()\n",
    "ax[1,1].set_xlim(400,600)\n",
    "ax[1,1].set_title('Phase $s_{2}$')\n",
    "\n",
    "ax[2, 0].plot(np.fft.fftshift(np.abs(S5)))\n",
    "ax[2, 0].grid()\n",
    "ax[2, 0].set_xlim(400,600)\n",
    "ax[2, 0].set_title('Amplitude spectrum for k = 5 and 50')\n",
    "\n",
    "Phase = np.angle(S5)\n",
    "Phase[np.abs(S5) < 1e-8] = 0\n",
    "ax[2, 1].plot(np.fft.fftshift(Phase))\n",
    "ax[2, 1].grid()\n",
    "ax[2, 1].set_xlim(400,600)\n",
    "ax[2, 1].set_title('Phase $s_{3}$')\n",
    "\n",
    "plt.tight_layout()"
   ]
  },
  {
   "cell_type": "markdown",
   "metadata": {
    "collapsed": false
   },
   "source": [
    "One can see that the sine waves all have a phase of pi/2 or -pi/2 (90 degrees). This comes from the mathematical relationship of sine and cosine and how complex exponents are used in the fourier transform. One could calculate this and find out that the only nonzero component of the FFT is where the phase is pi/2 and -pi/2 respectively.\n",
    "\n",
    "A cosine wave would have phases of 0. As we can write a sine as a cosine shifted by pi/2, this makes sense."
   ]
  },
  {
   "cell_type": "markdown",
   "id": "8135ea6d",
   "metadata": {},
   "source": [
    "#### We can apply `iDFT()` already implemented above to change back from frequency to time domain."
   ]
  },
  {
   "cell_type": "code",
   "execution_count": null,
   "id": "e2177200",
   "metadata": {
    "ExecuteTime": {
     "end_time": "2023-10-18T16:05:55.675230Z",
     "start_time": "2023-10-18T16:05:55.274479Z"
    }
   },
   "outputs": [],
   "source": [
    "s5_recovered = np.real(iDFT(S5))\n",
    "\n",
    "# plot\n",
    "\n",
    "plt.figure(figsize=(15,5))\n",
    "plt.plot(s5_recovered)\n",
    "plt.grid()\n",
    "plt.xlabel('n')\n",
    "plt.ylabel('$s_{5}[n]$',rotation=60)\n",
    "plt.title('$s_{5}[n]$ recovered from $S_{5}$ via iDFT()')\n",
    "plt.show()"
   ]
  },
  {
   "cell_type": "markdown",
   "id": "0f27ccd6",
   "metadata": {},
   "source": [
    "### Conclusions\n",
    "\n",
    "We explored Discrete Fourier Transform (DFT) and convolution theorem. You are encouraged to look out other use cases to cement your understanding of those concepts. Below are some bonus tasks for your practice."
   ]
  },
  {
   "cell_type": "markdown",
   "id": "2c59b187",
   "metadata": {},
   "source": [
    "## Bonus tasks\n",
    "\n",
    "These tasks are given for more hands-on engagement of students. There will be no solutions or grading (i.e., they are only for students to explore for leisure).\n",
    "\n",
    "\n",
    "1. Show that the convolution operation fulfills the following properties\n",
    " - Commutative i.e., $\\quad x[n] * h[n] \\quad = \\quad h[n] * x[n]$ \n",
    "\n",
    " - Associative i.e., $\\quad (x_{1}[n] * h[n]) \\quad * x_{2}[n] \\quad = \\quad x_{1}[n] \\quad * (h[n] * x_{2}[n])$\n",
    " \n",
    " - Derrivative i.e., $\\quad y[n] = x[n] * h[n]$\n",
    " \n",
    " $\\quad\\quad\\quad\\quad\\quad\\quad$ $\\frac{dy[n]}{dn} \\quad = \\quad \\frac{dx[n]}{dn} * h[n] \\quad = \\quad x[n] * \\frac{dh[n]}{dn} $.\n",
    "\n",
    "\n",
    "\n",
    "2. Show that convolution in time domain is same as multiplication in frequency domain\n",
    " \n",
    " $$x[n] * h[n] = iDFT \\left( X[k] . H[k] \\right)$$\n",
    " \n",
    " where `x[n]` and `h[n]` and signal `x` and impulse `h` in time domain\n",
    " \n",
    "     and `X[k]` and `H[k]` are the spectral domain of `x` and `h` respectively.\n",
    "\n",
    "\n",
    "     \n",
    "3. Let $x[n] = \\sum\\limits_{k\\in \\{10, 50, 100, 150, 200\\}} \\cos(2\\pi \\frac{k}{N} .n)$ with $n \\in [0, 999]$ and sampling frequency $f_s = 500$Hz. \n",
    "\n",
    "> Plot $x[n]$, its frequency spectrum $|X(f)|$, and $\\angle X(f)$. "
   ]
  }
 ],
 "metadata": {
  "kernelspec": {
   "display_name": "SIP-TUT",
   "language": "python",
   "name": "python3"
  },
  "language_info": {
   "codemirror_mode": {
    "name": "ipython",
    "version": 3
   },
   "file_extension": ".py",
   "mimetype": "text/x-python",
   "name": "python",
   "nbconvert_exporter": "python",
   "pygments_lexer": "ipython3",
   "version": "3.11.4"
  }
 },
 "nbformat": 4,
 "nbformat_minor": 5
}
